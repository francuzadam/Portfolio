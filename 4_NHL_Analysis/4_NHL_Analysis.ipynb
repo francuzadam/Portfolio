{
 "cells": [
  {
   "attachments": {},
   "cell_type": "markdown",
   "metadata": {},
   "source": [
    "Automated daily NHL games and odds informations"
   ]
  },
  {
   "attachments": {},
   "cell_type": "markdown",
   "metadata": {},
   "source": [
    "1. Import the required libraries"
   ]
  },
  {
   "cell_type": "code",
   "execution_count": 1,
   "metadata": {},
   "outputs": [],
   "source": [
    "import requests\n",
    "import pandas as pd\n",
    "import time\n",
    "from datetime import date, datetime, timedelta\n",
    "from dateutil import parser"
   ]
  },
  {
   "attachments": {},
   "cell_type": "markdown",
   "metadata": {},
   "source": [
    "2. Get today's NHL games of the day"
   ]
  },
  {
   "cell_type": "code",
   "execution_count": 2,
   "metadata": {},
   "outputs": [
    {
     "data": {
      "text/html": [
       "<div>\n",
       "<style scoped>\n",
       "    .dataframe tbody tr th:only-of-type {\n",
       "        vertical-align: middle;\n",
       "    }\n",
       "\n",
       "    .dataframe tbody tr th {\n",
       "        vertical-align: top;\n",
       "    }\n",
       "\n",
       "    .dataframe thead th {\n",
       "        text-align: right;\n",
       "    }\n",
       "</style>\n",
       "<table border=\"1\" class=\"dataframe\">\n",
       "  <thead>\n",
       "    <tr style=\"text-align: right;\">\n",
       "      <th></th>\n",
       "      <th>HomeTeam</th>\n",
       "      <th>AwayTeam</th>\n",
       "      <th>Teams</th>\n",
       "    </tr>\n",
       "  </thead>\n",
       "  <tbody>\n",
       "    <tr>\n",
       "      <th>0</th>\n",
       "      <td>Winnipeg Jets</td>\n",
       "      <td>St. Louis Blues</td>\n",
       "      <td>Winnipeg Jets - St. Louis Blues</td>\n",
       "    </tr>\n",
       "  </tbody>\n",
       "</table>\n",
       "</div>"
      ],
      "text/plain": [
       "        HomeTeam         AwayTeam                            Teams\n",
       "0  Winnipeg Jets  St. Louis Blues  Winnipeg Jets - St. Louis Blues"
      ]
     },
     "execution_count": 2,
     "metadata": {},
     "output_type": "execute_result"
    }
   ],
   "source": [
    "todayDate = date.today().strftime(\"%Y-%m-%d\")\n",
    "statsToday = \"https://statsapi.web.nhl.com/api/v1/schedule?date=\" + todayDate\n",
    "requestToday = requests.get(statsToday).json()\n",
    "\n",
    "#Build the dataframe\n",
    "gameToday = pd.DataFrame(columns=[\"HomeTeam\", \"AwayTeam\"])\n",
    "\n",
    "for teams in requestToday[\"dates\"][0][\"games\"]:\n",
    "    away = teams[\"teams\"][\"away\"][\"team\"][\"name\"]\n",
    "    home = teams[\"teams\"][\"home\"][\"team\"][\"name\"]\n",
    "    tempgamesToday = pd.DataFrame([[home, away]], columns=['HomeTeam', 'AwayTeam'])\n",
    "    gamesToday = pd.concat([gameToday,tempgamesToday], ignore_index=True)\n",
    "\n",
    "gamesToday[\"Teams\"] = gamesToday[\"HomeTeam\"] + \" - \" + gamesToday[\"AwayTeam\"]\n",
    "gamesToday"
   ]
  },
  {
   "attachments": {},
   "cell_type": "markdown",
   "metadata": {},
   "source": [
    "3. Game statistics from a specific date"
   ]
  },
  {
   "cell_type": "code",
   "execution_count": 3,
   "metadata": {},
   "outputs": [
    {
     "data": {
      "text/html": [
       "<div>\n",
       "<style scoped>\n",
       "    .dataframe tbody tr th:only-of-type {\n",
       "        vertical-align: middle;\n",
       "    }\n",
       "\n",
       "    .dataframe tbody tr th {\n",
       "        vertical-align: top;\n",
       "    }\n",
       "\n",
       "    .dataframe thead th {\n",
       "        text-align: right;\n",
       "    }\n",
       "</style>\n",
       "<table border=\"1\" class=\"dataframe\">\n",
       "  <thead>\n",
       "    <tr style=\"text-align: right;\">\n",
       "      <th></th>\n",
       "      <th>HomeTeam</th>\n",
       "      <th>AwayTeam</th>\n",
       "      <th>Goals</th>\n",
       "    </tr>\n",
       "  </thead>\n",
       "  <tbody>\n",
       "    <tr>\n",
       "      <th>0</th>\n",
       "      <td>Chicago Blackhawks</td>\n",
       "      <td>Boston Bruins</td>\n",
       "      <td>6</td>\n",
       "    </tr>\n",
       "    <tr>\n",
       "      <th>1</th>\n",
       "      <td>Nashville Predators</td>\n",
       "      <td>Philadelphia Flyers</td>\n",
       "      <td>4</td>\n",
       "    </tr>\n",
       "    <tr>\n",
       "      <th>2</th>\n",
       "      <td>Vegas Golden Knights</td>\n",
       "      <td>Los Angeles Kings</td>\n",
       "      <td>2</td>\n",
       "    </tr>\n",
       "    <tr>\n",
       "      <th>3</th>\n",
       "      <td>Ottawa Senators</td>\n",
       "      <td>Vancouver Canucks</td>\n",
       "      <td>7</td>\n",
       "    </tr>\n",
       "    <tr>\n",
       "      <th>4</th>\n",
       "      <td>Detroit Red Wings</td>\n",
       "      <td>Calgary Flames</td>\n",
       "      <td>8</td>\n",
       "    </tr>\n",
       "    <tr>\n",
       "      <th>...</th>\n",
       "      <td>...</td>\n",
       "      <td>...</td>\n",
       "      <td>...</td>\n",
       "    </tr>\n",
       "    <tr>\n",
       "      <th>5443</th>\n",
       "      <td>Seattle Kraken</td>\n",
       "      <td>Columbus Blue Jackets</td>\n",
       "      <td>4</td>\n",
       "    </tr>\n",
       "    <tr>\n",
       "      <th>5444</th>\n",
       "      <td>Edmonton Oilers</td>\n",
       "      <td>Chicago Blackhawks</td>\n",
       "      <td>10</td>\n",
       "    </tr>\n",
       "    <tr>\n",
       "      <th>5445</th>\n",
       "      <td>Anaheim Ducks</td>\n",
       "      <td>Arizona Coyotes</td>\n",
       "      <td>3</td>\n",
       "    </tr>\n",
       "    <tr>\n",
       "      <th>5446</th>\n",
       "      <td>Carolina Hurricanes</td>\n",
       "      <td>Boston Bruins</td>\n",
       "      <td>5</td>\n",
       "    </tr>\n",
       "    <tr>\n",
       "      <th>5447</th>\n",
       "      <td>Toronto Maple Leafs</td>\n",
       "      <td>Washington Capitals</td>\n",
       "      <td>6</td>\n",
       "    </tr>\n",
       "  </tbody>\n",
       "</table>\n",
       "<p>5448 rows × 3 columns</p>\n",
       "</div>"
      ],
      "text/plain": [
       "                  HomeTeam               AwayTeam Goals\n",
       "0       Chicago Blackhawks          Boston Bruins     6\n",
       "1      Nashville Predators    Philadelphia Flyers     4\n",
       "2     Vegas Golden Knights      Los Angeles Kings     2\n",
       "3          Ottawa Senators      Vancouver Canucks     7\n",
       "4        Detroit Red Wings         Calgary Flames     8\n",
       "...                    ...                    ...   ...\n",
       "5443        Seattle Kraken  Columbus Blue Jackets     4\n",
       "5444       Edmonton Oilers     Chicago Blackhawks    10\n",
       "5445         Anaheim Ducks        Arizona Coyotes     3\n",
       "5446   Carolina Hurricanes          Boston Bruins     5\n",
       "5447   Toronto Maple Leafs    Washington Capitals     6\n",
       "\n",
       "[5448 rows x 3 columns]"
      ]
     },
     "execution_count": 3,
     "metadata": {},
     "output_type": "execute_result"
    }
   ],
   "source": [
    "startDate = \"2019-01-01\"\n",
    "endDate = date.today() + timedelta(days=-1)\n",
    "endDate = endDate.strftime(\"%Y-%m-%d\")\n",
    "statsGame = f\"https://statsapi.web.nhl.com/api/v1/schedule?startDate={startDate}&endDate={endDate}\"\n",
    "requestGame = requests.get(statsGame).json()\n",
    "\n",
    "#Build the dataframe\n",
    "gameStats = pd.DataFrame(columns=[\"HomeTeam\", \"AwayTeam\", \"Goals\"])\n",
    "\n",
    "for dates in requestGame[\"dates\"]:\n",
    "    for stats in dates[\"games\"]:\n",
    "        away = stats[\"teams\"][\"away\"][\"team\"][\"name\"]\n",
    "        home = stats[\"teams\"][\"home\"][\"team\"][\"name\"]\n",
    "        awayGoals = stats[\"teams\"][\"away\"][\"score\"]\n",
    "        homeGoals = stats[\"teams\"][\"home\"][\"score\"]\n",
    "        goals = awayGoals + homeGoals\n",
    "        gameStats1 = pd.DataFrame([[home, away, goals]], columns=['HomeTeam', 'AwayTeam', 'Goals'])\n",
    "        gameStats = pd.concat([gameStats,gameStats1], ignore_index=True)\n",
    "\n",
    "gameStats"
   ]
  },
  {
   "attachments": {},
   "cell_type": "markdown",
   "metadata": {},
   "source": [
    "4. The statistic is based on bets under/over 5.5 goals, so the variable is defined."
   ]
  },
  {
   "cell_type": "code",
   "execution_count": 11,
   "metadata": {},
   "outputs": [
    {
     "data": {
      "text/html": [
       "<div>\n",
       "<style scoped>\n",
       "    .dataframe tbody tr th:only-of-type {\n",
       "        vertical-align: middle;\n",
       "    }\n",
       "\n",
       "    .dataframe tbody tr th {\n",
       "        vertical-align: top;\n",
       "    }\n",
       "\n",
       "    .dataframe thead th {\n",
       "        text-align: right;\n",
       "    }\n",
       "</style>\n",
       "<table border=\"1\" class=\"dataframe\">\n",
       "  <thead>\n",
       "    <tr style=\"text-align: right;\">\n",
       "      <th></th>\n",
       "      <th>Teams</th>\n",
       "      <th>O/U Percentage</th>\n",
       "    </tr>\n",
       "  </thead>\n",
       "  <tbody>\n",
       "    <tr>\n",
       "      <th>0</th>\n",
       "      <td>Winnipeg Jets - St. Louis Blues</td>\n",
       "      <td>56%</td>\n",
       "    </tr>\n",
       "  </tbody>\n",
       "</table>\n",
       "</div>"
      ],
      "text/plain": [
       "                             Teams O/U Percentage\n",
       "0  Winnipeg Jets - St. Louis Blues            56%"
      ]
     },
     "execution_count": 11,
     "metadata": {},
     "output_type": "execute_result"
    }
   ],
   "source": [
    "booleanNumber = 6\n",
    "\n",
    "gameStats.loc[gameStats[\"Goals\"] >= booleanNumber, \"O/U Percentage\"] = 1\n",
    "gameStats.loc[gameStats[\"Goals\"] < booleanNumber, \"O/U Percentage\"] = 0\n",
    "gameBoolean = gameStats.groupby([\"HomeTeam\", \"AwayTeam\"]).mean().reset_index()\n",
    "gameBoolean[\"Teams\"] = gameBoolean[\"HomeTeam\"] + \" - \" + gameBoolean[\"AwayTeam\"]\n",
    "\n",
    "gamesData = gamesToday.merge(gameBoolean, how=\"inner\", on=\"Teams\")\n",
    "gamesData = gamesData[[\"Teams\", \"O/U Percentage\"]]\n",
    "gamesData[\"O/U Percentage\"] = gamesData[\"O/U Percentage\"].apply(lambda x: \"{:.0f}\".format(x * 100) + \"%\")\n",
    "gamesData"
   ]
  },
  {
   "attachments": {},
   "cell_type": "markdown",
   "metadata": {},
   "source": [
    "5. Collect the daily Odds"
   ]
  },
  {
   "cell_type": "code",
   "execution_count": 13,
   "metadata": {},
   "outputs": [],
   "source": [
    "api_key = '778f74cbbc921917acd532fa7b44aa37'\n",
    "sport = 'icehockey_nhl'\n",
    "region = 'eu'\n",
    "market = 'totals'\n",
    "urlOdds = f\"https://api.the-odds-api.com//v4/sports/{sport}/odds/?apiKey={api_key}&regions={region}&markets={market}\"\n",
    "requestOdds = requests.get(urlOdds).json()"
   ]
  },
  {
   "attachments": {},
   "cell_type": "markdown",
   "metadata": {},
   "source": [
    "6. Definition of betting type and get the daily odds"
   ]
  },
  {
   "cell_type": "code",
   "execution_count": 16,
   "metadata": {},
   "outputs": [
    {
     "data": {
      "text/html": [
       "<div>\n",
       "<style scoped>\n",
       "    .dataframe tbody tr th:only-of-type {\n",
       "        vertical-align: middle;\n",
       "    }\n",
       "\n",
       "    .dataframe tbody tr th {\n",
       "        vertical-align: top;\n",
       "    }\n",
       "\n",
       "    .dataframe thead th {\n",
       "        text-align: right;\n",
       "    }\n",
       "</style>\n",
       "<table border=\"1\" class=\"dataframe\">\n",
       "  <thead>\n",
       "    <tr style=\"text-align: right;\">\n",
       "      <th></th>\n",
       "      <th>HomeTeam</th>\n",
       "      <th>AwayTeam</th>\n",
       "      <th>BetCompany</th>\n",
       "      <th>OddsOver</th>\n",
       "      <th>OddsUnder</th>\n",
       "      <th>Teams</th>\n",
       "    </tr>\n",
       "  </thead>\n",
       "  <tbody>\n",
       "    <tr>\n",
       "      <th>0</th>\n",
       "      <td>Winnipeg Jets</td>\n",
       "      <td>St Louis Blues</td>\n",
       "      <td>888sport</td>\n",
       "      <td>1.70</td>\n",
       "      <td>2.20</td>\n",
       "      <td>Winnipeg Jets - St Louis Blues</td>\n",
       "    </tr>\n",
       "    <tr>\n",
       "      <th>1</th>\n",
       "      <td>Winnipeg Jets</td>\n",
       "      <td>St Louis Blues</td>\n",
       "      <td>1xBet</td>\n",
       "      <td>1.76</td>\n",
       "      <td>2.23</td>\n",
       "      <td>Winnipeg Jets - St Louis Blues</td>\n",
       "    </tr>\n",
       "    <tr>\n",
       "      <th>2</th>\n",
       "      <td>Winnipeg Jets</td>\n",
       "      <td>St Louis Blues</td>\n",
       "      <td>Matchbook</td>\n",
       "      <td>1.78</td>\n",
       "      <td>2.16</td>\n",
       "      <td>Winnipeg Jets - St Louis Blues</td>\n",
       "    </tr>\n",
       "  </tbody>\n",
       "</table>\n",
       "</div>"
      ],
      "text/plain": [
       "        HomeTeam        AwayTeam BetCompany  OddsOver  OddsUnder  \\\n",
       "0  Winnipeg Jets  St Louis Blues   888sport      1.70       2.20   \n",
       "1  Winnipeg Jets  St Louis Blues      1xBet      1.76       2.23   \n",
       "2  Winnipeg Jets  St Louis Blues  Matchbook      1.78       2.16   \n",
       "\n",
       "                            Teams  \n",
       "0  Winnipeg Jets - St Louis Blues  \n",
       "1  Winnipeg Jets - St Louis Blues  \n",
       "2  Winnipeg Jets - St Louis Blues  "
      ]
     },
     "execution_count": 16,
     "metadata": {},
     "output_type": "execute_result"
    }
   ],
   "source": [
    "betType = 5.5\n",
    "\n",
    "#Build the DataFrame\n",
    "oddsToday = pd.DataFrame(columns=[\"HomeTeam\", \"AwayTeam\", \"BetCompany\", \"OddsOver\", \"OddsUnder\"])\n",
    "\n",
    "for games in requestOdds:\n",
    "    datetime_string = games[\"commence_time\"]\n",
    "    datetime_object = parser.parse(datetime_string).date()\n",
    "    dateTomorrow = datetime.today().date() + timedelta(days=1)\n",
    "    if datetime_object == dateTomorrow:\n",
    "        home = games[\"home_team\"]\n",
    "        away = games[\"away_team\"]\n",
    "        for office in games[\"bookmakers\"]:\n",
    "            if office[\"markets\"][0][\"outcomes\"][0][\"point\"] == betType:\n",
    "                over = office[\"markets\"][0][\"outcomes\"][0][\"price\"]\n",
    "                under = office[\"markets\"][0][\"outcomes\"][1][\"price\"]\n",
    "                company = office[\"title\"]\n",
    "                tempoddsToday = pd.DataFrame([[home, away, company, over, under]], columns=['HomeTeam', 'AwayTeam', \"BetCompany\", 'OddsOver', 'OddsUnder'])\n",
    "                oddsToday = pd.concat([oddsToday,tempoddsToday], ignore_index=True)\n",
    "\n",
    "oddsToday[\"Teams\"] = oddsToday[\"HomeTeam\"] + \" - \" + oddsToday[\"AwayTeam\"]\n",
    "oddsToday"
   ]
  },
  {
   "attachments": {},
   "cell_type": "markdown",
   "metadata": {},
   "source": [
    "7. Merge the DataFrames amd export to .xlsx format"
   ]
  },
  {
   "cell_type": "code",
   "execution_count": 22,
   "metadata": {},
   "outputs": [
    {
     "data": {
      "text/html": [
       "<div>\n",
       "<style scoped>\n",
       "    .dataframe tbody tr th:only-of-type {\n",
       "        vertical-align: middle;\n",
       "    }\n",
       "\n",
       "    .dataframe tbody tr th {\n",
       "        vertical-align: top;\n",
       "    }\n",
       "\n",
       "    .dataframe thead th {\n",
       "        text-align: right;\n",
       "    }\n",
       "</style>\n",
       "<table border=\"1\" class=\"dataframe\">\n",
       "  <thead>\n",
       "    <tr style=\"text-align: right;\">\n",
       "      <th></th>\n",
       "      <th>HomeTeam</th>\n",
       "      <th>AwayTeam</th>\n",
       "      <th>BetCompany</th>\n",
       "      <th>OddsOver</th>\n",
       "      <th>OddsUnder</th>\n",
       "      <th>Teams</th>\n",
       "      <th>O/U Percentage</th>\n",
       "    </tr>\n",
       "  </thead>\n",
       "  <tbody>\n",
       "  </tbody>\n",
       "</table>\n",
       "</div>"
      ],
      "text/plain": [
       "Empty DataFrame\n",
       "Columns: [HomeTeam, AwayTeam, BetCompany, OddsOver, OddsUnder, Teams, O/U Percentage]\n",
       "Index: []"
      ]
     },
     "execution_count": 22,
     "metadata": {},
     "output_type": "execute_result"
    }
   ],
   "source": [
    "DataFrame = oddsToday.merge(gamesData, how='inner', on=\"Teams\")\n",
    "DataFrame.to_excel(\"4_NHL_Analysis.xlsx\", index=False)\n",
    "DataFrame"
   ]
  }
 ],
 "metadata": {
  "kernelspec": {
   "display_name": "Python 3",
   "language": "python",
   "name": "python3"
  },
  "language_info": {
   "codemirror_mode": {
    "name": "ipython",
    "version": 3
   },
   "file_extension": ".py",
   "mimetype": "text/x-python",
   "name": "python",
   "nbconvert_exporter": "python",
   "pygments_lexer": "ipython3",
   "version": "3.9.0"
  },
  "orig_nbformat": 4,
  "vscode": {
   "interpreter": {
    "hash": "82ed002fa2d4956f5c6aec99bcefe0f73a9f79882f3c9e2319b14958a5896ac5"
   }
  }
 },
 "nbformat": 4,
 "nbformat_minor": 2
}
