{
 "cells": [
  {
   "attachments": {},
   "cell_type": "markdown",
   "metadata": {},
   "source": [
    "Instagram Data Collection with Selenium"
   ]
  },
  {
   "cell_type": "code",
   "execution_count": 7,
   "metadata": {},
   "outputs": [],
   "source": [
    "# Enter your username and password here\n",
    "username = \"YOUR_USER_NAME\"\n",
    "password = \"YOUR_PASSWORD\"\n",
    "keyword = \"YOUR_KEYWORD\""
   ]
  },
  {
   "attachments": {},
   "cell_type": "markdown",
   "metadata": {},
   "source": [
    "Import the required libraries"
   ]
  },
  {
   "cell_type": "code",
   "execution_count": 3,
   "metadata": {},
   "outputs": [],
   "source": [
    "from selenium import webdriver\n",
    "from selenium.webdriver.common.keys import Keys\n",
    "from selenium.webdriver.support import expected_conditions as EC\n",
    "from selenium.webdriver.common.by import By\n",
    "from selenium.webdriver.support.wait import WebDriverWait\n",
    "import time\n",
    "import os\n",
    "import wget\n",
    "import urllib.request\n",
    "from urllib.request import urlretrieve"
   ]
  },
  {
   "attachments": {},
   "cell_type": "markdown",
   "metadata": {},
   "source": [
    "Code"
   ]
  },
  {
   "cell_type": "code",
   "execution_count": 6,
   "metadata": {},
   "outputs": [
    {
     "ename": "TimeoutException",
     "evalue": "Message: \nStacktrace:\nBacktrace:\n\t(No symbol) [0x00A3DCE3]\n\t(No symbol) [0x009D39D1]\n\t(No symbol) [0x008E4DA8]\n\t(No symbol) [0x0091019F]\n\t(No symbol) [0x009103AB]\n\t(No symbol) [0x0093EE62]\n\t(No symbol) [0x0092AF14]\n\t(No symbol) [0x0093D57C]\n\t(No symbol) [0x0092ACC6]\n\t(No symbol) [0x00906F68]\n\t(No symbol) [0x009080CD]\n\tGetHandleVerifier [0x00CB3832+2506274]\n\tGetHandleVerifier [0x00CE9794+2727300]\n\tGetHandleVerifier [0x00CEE36C+2746716]\n\tGetHandleVerifier [0x00AE6690+617600]\n\t(No symbol) [0x009DC712]\n\t(No symbol) [0x009E1FF8]\n\t(No symbol) [0x009E20DB]\n\t(No symbol) [0x009EC63B]\n\tBaseThreadInitThunk [0x772400F9+25]\n\tRtlGetAppContainerNamedObjectPath [0x77417BBE+286]\n\tRtlGetAppContainerNamedObjectPath [0x77417B8E+238]\n",
     "output_type": "error",
     "traceback": [
      "\u001b[1;31m---------------------------------------------------------------------------\u001b[0m",
      "\u001b[1;31mTimeoutException\u001b[0m                          Traceback (most recent call last)",
      "\u001b[1;32mc:\\Users\\user\\Documents\\Ádám\\Portfolio\\PortfolioFiles\\5_InstagramDataCollection.ipynb Cell 5\u001b[0m in \u001b[0;36m<cell line: 27>\u001b[1;34m()\u001b[0m\n\u001b[0;32m     <a href='vscode-notebook-cell:/c%3A/Users/user/Documents/%C3%81d%C3%A1m/Portfolio/PortfolioFiles/5_InstagramDataCollection.ipynb#W4sZmlsZQ%3D%3D?line=23'>24</a>\u001b[0m time\u001b[39m.\u001b[39msleep(\u001b[39m2\u001b[39m)\n\u001b[0;32m     <a href='vscode-notebook-cell:/c%3A/Users/user/Documents/%C3%81d%C3%A1m/Portfolio/PortfolioFiles/5_InstagramDataCollection.ipynb#W4sZmlsZQ%3D%3D?line=25'>26</a>\u001b[0m save_info \u001b[39m=\u001b[39m \u001b[39m\"\u001b[39m\u001b[39mNot now\u001b[39m\u001b[39m\"\u001b[39m\n\u001b[1;32m---> <a href='vscode-notebook-cell:/c%3A/Users/user/Documents/%C3%81d%C3%A1m/Portfolio/PortfolioFiles/5_InstagramDataCollection.ipynb#W4sZmlsZQ%3D%3D?line=26'>27</a>\u001b[0m save_info_click \u001b[39m=\u001b[39m WebDriverWait(driver, \u001b[39m10\u001b[39;49m)\u001b[39m.\u001b[39;49muntil(EC\u001b[39m.\u001b[39;49melement_to_be_clickable((By\u001b[39m.\u001b[39;49mXPATH, \u001b[39mf\u001b[39;49m\u001b[39m\"\u001b[39;49m\u001b[39m//button[text()=\u001b[39;49m\u001b[39m'\u001b[39;49m\u001b[39m{\u001b[39;49;00msave_info\u001b[39m}\u001b[39;49;00m\u001b[39m'\u001b[39;49m\u001b[39m]\u001b[39;49m\u001b[39m\"\u001b[39;49m)))\n\u001b[0;32m     <a href='vscode-notebook-cell:/c%3A/Users/user/Documents/%C3%81d%C3%A1m/Portfolio/PortfolioFiles/5_InstagramDataCollection.ipynb#W4sZmlsZQ%3D%3D?line=27'>28</a>\u001b[0m save_info_click\u001b[39m.\u001b[39mclick()\n\u001b[0;32m     <a href='vscode-notebook-cell:/c%3A/Users/user/Documents/%C3%81d%C3%A1m/Portfolio/PortfolioFiles/5_InstagramDataCollection.ipynb#W4sZmlsZQ%3D%3D?line=29'>30</a>\u001b[0m save_info \u001b[39m=\u001b[39m \u001b[39m\"\u001b[39m\u001b[39mNot Now\u001b[39m\u001b[39m\"\u001b[39m\n",
      "File \u001b[1;32mc:\\Users\\user\\AppData\\Local\\Programs\\Python\\Python39\\lib\\site-packages\\selenium\\webdriver\\support\\wait.py:95\u001b[0m, in \u001b[0;36mWebDriverWait.until\u001b[1;34m(self, method, message)\u001b[0m\n\u001b[0;32m     93\u001b[0m     \u001b[39mif\u001b[39;00m time\u001b[39m.\u001b[39mmonotonic() \u001b[39m>\u001b[39m end_time:\n\u001b[0;32m     94\u001b[0m         \u001b[39mbreak\u001b[39;00m\n\u001b[1;32m---> 95\u001b[0m \u001b[39mraise\u001b[39;00m TimeoutException(message, screen, stacktrace)\n",
      "\u001b[1;31mTimeoutException\u001b[0m: Message: \nStacktrace:\nBacktrace:\n\t(No symbol) [0x00A3DCE3]\n\t(No symbol) [0x009D39D1]\n\t(No symbol) [0x008E4DA8]\n\t(No symbol) [0x0091019F]\n\t(No symbol) [0x009103AB]\n\t(No symbol) [0x0093EE62]\n\t(No symbol) [0x0092AF14]\n\t(No symbol) [0x0093D57C]\n\t(No symbol) [0x0092ACC6]\n\t(No symbol) [0x00906F68]\n\t(No symbol) [0x009080CD]\n\tGetHandleVerifier [0x00CB3832+2506274]\n\tGetHandleVerifier [0x00CE9794+2727300]\n\tGetHandleVerifier [0x00CEE36C+2746716]\n\tGetHandleVerifier [0x00AE6690+617600]\n\t(No symbol) [0x009DC712]\n\t(No symbol) [0x009E1FF8]\n\t(No symbol) [0x009E20DB]\n\t(No symbol) [0x009EC63B]\n\tBaseThreadInitThunk [0x772400F9+25]\n\tRtlGetAppContainerNamedObjectPath [0x77417BBE+286]\n\tRtlGetAppContainerNamedObjectPath [0x77417B8E+238]\n"
     ]
    }
   ],
   "source": [
    "driver = webdriver.Chrome()\n",
    "driver.get(\"https://www.instagram.com/\")\n",
    "\n",
    "cookie_text = \"Allow essential and optional cookies\"\n",
    "cookies_click = WebDriverWait(driver, 10).until(EC.element_to_be_clickable((By.XPATH, f\"//button[text()='{cookie_text}']\")))\n",
    "cookies_click.click()\n",
    "\n",
    "# Wait for the page to load\n",
    "time.sleep(2)\n",
    "\n",
    "# Find the username and password fields and enter your login credentials\n",
    "username_field = WebDriverWait(driver, 10).until(EC.element_to_be_clickable((By.CSS_SELECTOR, \"input[name='username']\")))\n",
    "username_field.clear()\n",
    "username_field.send_keys(username)\n",
    "\n",
    "password_field = WebDriverWait(driver, 10).until(EC.element_to_be_clickable((By.CSS_SELECTOR, \"input[name='password']\")))\n",
    "password_field.clear()\n",
    "password_field.send_keys(password)\n",
    "\n",
    "# Press enter to submit the login form\n",
    "password_field.send_keys(Keys.RETURN)\n",
    "\n",
    "# Wait for the page to load\n",
    "time.sleep(2)\n",
    "\n",
    "save_info = \"Not now\"\n",
    "save_info_click = WebDriverWait(driver, 10).until(EC.element_to_be_clickable((By.XPATH, f\"//button[text()='{save_info}']\")))\n",
    "save_info_click.click()\n",
    "\n",
    "save_info = \"Not Now\"\n",
    "save_info_click = WebDriverWait(driver, 10).until(EC.element_to_be_clickable((By.XPATH, f\"//button[text()='{save_info}']\")))\n",
    "save_info_click.click()\n",
    "\n",
    "#target the search input field\n",
    "search_click = WebDriverWait(driver, 10).until(EC.element_to_be_clickable((By.XPATH, \"//div[text()='Search']\")))\n",
    "search_click.click()\n",
    "\n",
    "searchbox = WebDriverWait(driver, 10).until(EC.element_to_be_clickable((By.XPATH, \"//input[@placeholder='Search']\")))\n",
    "searchbox.clear()\n",
    "\n",
    "#search for the hashtag cat\n",
    "searchbox.send_keys(keyword)\n",
    "\n",
    "searchbox.send_keys(Keys.ENTER)\n",
    "\n",
    "my_link = WebDriverWait(driver, 10).until(EC.element_to_be_clickable((By.XPATH, \"//a[contains(@href, '/\" + keyword + \"/')]\")))\n",
    "my_link.click()\n",
    "\n",
    "\n",
    "#scroll down 2 times\n",
    "#increase the range to sroll more\n",
    "n_scrolls = 2\n",
    "for j in range(0, n_scrolls):\n",
    "    driver.execute_script(\"window.scrollTo(0, document.body.scrollHeight);\")\n",
    "    time.sleep(5)\n",
    "\n",
    "#target all the link elements on the page\n",
    "name = 'a'\n",
    "anchors = driver.find_elements(By.TAG_NAME, name)\n",
    "anchors = [a.get_attribute('href') for a in anchors]\n",
    "#narrow down all links to image links only\n",
    "anchors = [a for a in anchors if str(a).startswith(\"https://www.instagram.com/p/\")]\n",
    "\n",
    "path = os.getcwd()\n",
    "path = os.path.join(path, keyword + \"_photos\")\n",
    "\n",
    "#create the directory\n",
    "os.mkdir(path)\n",
    "\n",
    "counter=0\n",
    "for anchor in anchors:\n",
    "    driver.get(anchor)\n",
    "    time.sleep(3) # Wait for the page to load\n",
    "\n",
    "    download = WebDriverWait(driver, 10).until(EC.element_to_be_clickable((By.XPATH, \"//img[@class='x5yr21d xu96u03 x10l6tqk x13vifvy x87ps6o xh8yej3']\")))\n",
    "    download_link = download.get_attribute('src')\n",
    "    download_link = download_link.split(\" \")[0]\n",
    "\n",
    "    save_as = os.path.join(path, f\"{keyword}_image{counter}.jpg\")\n",
    "    wget.download(download_link, save_as)\n",
    "    counter += 1\n",
    "\n",
    "driver.quit()"
   ]
  }
 ],
 "metadata": {
  "kernelspec": {
   "display_name": "Python 3",
   "language": "python",
   "name": "python3"
  },
  "language_info": {
   "codemirror_mode": {
    "name": "ipython",
    "version": 3
   },
   "file_extension": ".py",
   "mimetype": "text/x-python",
   "name": "python",
   "nbconvert_exporter": "python",
   "pygments_lexer": "ipython3",
   "version": "3.9.0"
  },
  "orig_nbformat": 4,
  "vscode": {
   "interpreter": {
    "hash": "82ed002fa2d4956f5c6aec99bcefe0f73a9f79882f3c9e2319b14958a5896ac5"
   }
  }
 },
 "nbformat": 4,
 "nbformat_minor": 2
}
