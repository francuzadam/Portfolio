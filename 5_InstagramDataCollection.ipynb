{
 "cells": [
  {
   "attachments": {},
   "cell_type": "markdown",
   "metadata": {},
   "source": [
    "Instagram Data Collection with Selenium"
   ]
  },
  {
   "cell_type": "code",
   "execution_count": null,
   "metadata": {},
   "outputs": [],
   "source": [
    "# Enter your username and password here\n",
    "username = \"YOUR_USER_NAME\"\n",
    "password = \"YOUR_PASSWORD\"\n",
    "keyword = \"YOUR_KEYWORD\""
   ]
  },
  {
   "attachments": {},
   "cell_type": "markdown",
   "metadata": {},
   "source": [
    "Import the required libraries"
   ]
  },
  {
   "cell_type": "code",
   "execution_count": null,
   "metadata": {},
   "outputs": [],
   "source": [
    "from selenium import webdriver\n",
    "from selenium.webdriver.common.keys import Keys\n",
    "from selenium.webdriver.support import expected_conditions as EC\n",
    "from selenium.webdriver.common.by import By\n",
    "from selenium.webdriver.support.wait import WebDriverWait\n",
    "import time\n",
    "import os\n",
    "import wget\n",
    "import urllib.request\n",
    "from urllib.request import urlretrieve"
   ]
  },
  {
   "attachments": {},
   "cell_type": "markdown",
   "metadata": {},
   "source": [
    "Code"
   ]
  },
  {
   "cell_type": "code",
   "execution_count": null,
   "metadata": {},
   "outputs": [],
   "source": [
    "driver = webdriver.Chrome()\n",
    "driver.get(\"https://www.instagram.com/\")\n",
    "\n",
    "cookie_text = \"Allow essential and optional cookies\"\n",
    "cookies_click = WebDriverWait(driver, 10).until(EC.element_to_be_clickable((By.XPATH, f\"//button[text()='{cookie_text}']\")))\n",
    "cookies_click.click()\n",
    "\n",
    "# Wait for the page to load\n",
    "time.sleep(2)\n",
    "\n",
    "# Find the username and password fields and enter your login credentials\n",
    "username_field = WebDriverWait(driver, 10).until(EC.element_to_be_clickable((By.CSS_SELECTOR, \"input[name='username']\")))\n",
    "username_field.clear()\n",
    "username_field.send_keys(username)\n",
    "\n",
    "password_field = WebDriverWait(driver, 10).until(EC.element_to_be_clickable((By.CSS_SELECTOR, \"input[name='password']\")))\n",
    "password_field.clear()\n",
    "password_field.send_keys(password)\n",
    "\n",
    "# Press enter to submit the login form\n",
    "password_field.send_keys(Keys.RETURN)\n",
    "\n",
    "# Wait for the page to load\n",
    "time.sleep(2)\n",
    "\n",
    "save_info = \"Not now\"\n",
    "save_info_click = WebDriverWait(driver, 10).until(EC.element_to_be_clickable((By.XPATH, f\"//button[text()='{save_info}']\")))\n",
    "save_info_click.click()\n",
    "\n",
    "save_info = \"Not Now\"\n",
    "save_info_click = WebDriverWait(driver, 10).until(EC.element_to_be_clickable((By.XPATH, f\"//button[text()='{save_info}']\")))\n",
    "save_info_click.click()\n",
    "\n",
    "#target the search input field\n",
    "search_click = WebDriverWait(driver, 10).until(EC.element_to_be_clickable((By.XPATH, \"//div[text()='Search']\")))\n",
    "search_click.click()\n",
    "\n",
    "searchbox = WebDriverWait(driver, 10).until(EC.element_to_be_clickable((By.XPATH, \"//input[@placeholder='Search']\")))\n",
    "searchbox.clear()\n",
    "\n",
    "#search for the hashtag cat\n",
    "searchbox.send_keys(keyword)\n",
    "\n",
    "searchbox.send_keys(Keys.ENTER)\n",
    "\n",
    "my_link = WebDriverWait(driver, 10).until(EC.element_to_be_clickable((By.XPATH, \"//a[contains(@href, '/\" + keyword + \"/')]\")))\n",
    "my_link.click()\n",
    "\n",
    "\n",
    "#scroll down 2 times\n",
    "#increase the range to sroll more\n",
    "n_scrolls = 2\n",
    "for j in range(0, n_scrolls):\n",
    "    driver.execute_script(\"window.scrollTo(0, document.body.scrollHeight);\")\n",
    "    time.sleep(5)\n",
    "\n",
    "#target all the link elements on the page\n",
    "name = 'a'\n",
    "anchors = driver.find_elements(By.TAG_NAME, name)\n",
    "anchors = [a.get_attribute('href') for a in anchors]\n",
    "#narrow down all links to image links only\n",
    "anchors = [a for a in anchors if str(a).startswith(\"https://www.instagram.com/p/\")]\n",
    "\n",
    "path = os.getcwd()\n",
    "path = os.path.join(path, keyword + \"_photos\")\n",
    "\n",
    "#create the directory\n",
    "os.mkdir(path)\n",
    "\n",
    "counter=0\n",
    "for anchor in anchors:\n",
    "    driver.get(anchor)\n",
    "    time.sleep(3) # Wait for the page to load\n",
    "\n",
    "    download = WebDriverWait(driver, 10).until(EC.element_to_be_clickable((By.XPATH, \"//img[@class='x5yr21d xu96u03 x10l6tqk x13vifvy x87ps6o xh8yej3']\")))\n",
    "    download_link = download.get_attribute('src')\n",
    "    download_link = download_link.split(\" \")[0]\n",
    "\n",
    "    save_as = os.path.join(path, f\"{keyword}_image{counter}.jpg\")\n",
    "    wget.download(download_link, save_as)\n",
    "    counter += 1\n",
    "\n",
    "driver.quit()"
   ]
  }
 ],
 "metadata": {
  "language_info": {
   "name": "python"
  },
  "orig_nbformat": 4
 },
 "nbformat": 4,
 "nbformat_minor": 2
}
