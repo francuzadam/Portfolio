{
 "cells": [
  {
   "attachments": {},
   "cell_type": "markdown",
   "metadata": {},
   "source": [
    "Import the required libraries"
   ]
  },
  {
   "cell_type": "code",
   "execution_count": 1,
   "metadata": {},
   "outputs": [],
   "source": [
    "from urllib.parse import urlencode, urlparse, parse_qsl\n",
    "import pandas as pd\n",
    "import requests"
   ]
  },
  {
   "attachments": {},
   "cell_type": "markdown",
   "metadata": {},
   "source": [
    "Get the API key"
   ]
  },
  {
   "cell_type": "code",
   "execution_count": 2,
   "metadata": {},
   "outputs": [],
   "source": [
    "api_key = \"YOUR_API_KEY\""
   ]
  },
  {
   "attachments": {},
   "cell_type": "markdown",
   "metadata": {},
   "source": [
    "Create function to generate latlong from address"
   ]
  },
  {
   "cell_type": "code",
   "execution_count": 5,
   "metadata": {},
   "outputs": [],
   "source": [
    "def extract_lat_long(address_or_postalcode, data_type = \"json\"):\n",
    "    endpoint = f\"https://maps.googleapis.com/maps/api/geocode/{data_type}\"\n",
    "    params = {\"address\": address_or_postalcode, \"key\": api_key}\n",
    "    url_params = urlencode(params)\n",
    "    url = f\"{endpoint}?{url_params}\"\n",
    "    r = requests.get(url)\n",
    "    if r.status_code not in range(200,299):\n",
    "        return{}\n",
    "    try:\n",
    "        latlng = r.json()[\"results\"][0][\"geometry\"][\"location\"]\n",
    "    except:\n",
    "        pass\n",
    "    return latlng.get(\"lat\"), latlng.get(\"lng\")"
   ]
  },
  {
   "attachments": {},
   "cell_type": "markdown",
   "metadata": {},
   "source": [
    "Create parameters to build the requested table"
   ]
  },
  {
   "cell_type": "code",
   "execution_count": 17,
   "metadata": {},
   "outputs": [],
   "source": [
    "input = \"YOUR_KEYWORD\" #keyword\n",
    "radius = 1000 #maximum distance from address\n",
    "address = \"YOUR_ADDRESS\"\n",
    "lat, long = extract_lat_long(address)"
   ]
  },
  {
   "attachments": {},
   "cell_type": "markdown",
   "metadata": {},
   "source": [
    "Dataset creation"
   ]
  },
  {
   "cell_type": "code",
   "execution_count": 18,
   "metadata": {},
   "outputs": [
    {
     "data": {
      "text/html": [
       "<div>\n",
       "<style scoped>\n",
       "    .dataframe tbody tr th:only-of-type {\n",
       "        vertical-align: middle;\n",
       "    }\n",
       "\n",
       "    .dataframe tbody tr th {\n",
       "        vertical-align: top;\n",
       "    }\n",
       "\n",
       "    .dataframe thead th {\n",
       "        text-align: right;\n",
       "    }\n",
       "</style>\n",
       "<table border=\"1\" class=\"dataframe\">\n",
       "  <thead>\n",
       "    <tr style=\"text-align: right;\">\n",
       "      <th></th>\n",
       "      <th>Név</th>\n",
       "      <th>Cím</th>\n",
       "      <th>Értékelés</th>\n",
       "    </tr>\n",
       "  </thead>\n",
       "  <tbody>\n",
       "    <tr>\n",
       "      <th>4</th>\n",
       "      <td>Fermento</td>\n",
       "      <td>Budapest, Csalogány u. 26</td>\n",
       "      <td>4.8</td>\n",
       "    </tr>\n",
       "    <tr>\n",
       "      <th>6</th>\n",
       "      <td>Porcellino Grasso Ristorante</td>\n",
       "      <td>Budapest, Ady Endre u. 19</td>\n",
       "      <td>4.6</td>\n",
       "    </tr>\n",
       "    <tr>\n",
       "      <th>1</th>\n",
       "      <td>Due Fratelli</td>\n",
       "      <td>Budapest, Erőd u. 9</td>\n",
       "      <td>4.4</td>\n",
       "    </tr>\n",
       "    <tr>\n",
       "      <th>2</th>\n",
       "      <td>IGEN</td>\n",
       "      <td>Budapest, Margit körút 60</td>\n",
       "      <td>4.4</td>\n",
       "    </tr>\n",
       "    <tr>\n",
       "      <th>0</th>\n",
       "      <td>Pizza Me</td>\n",
       "      <td>Budapest, Margit körút 91</td>\n",
       "      <td>4.3</td>\n",
       "    </tr>\n",
       "    <tr>\n",
       "      <th>7</th>\n",
       "      <td>Marxim</td>\n",
       "      <td>Budapest, Kis Rókus u. 23</td>\n",
       "      <td>4.3</td>\n",
       "    </tr>\n",
       "    <tr>\n",
       "      <th>5</th>\n",
       "      <td>IL Treno</td>\n",
       "      <td>Budapest, Lövőház u. 2-6</td>\n",
       "      <td>4.1</td>\n",
       "    </tr>\n",
       "    <tr>\n",
       "      <th>3</th>\n",
       "      <td>Pizza Forte</td>\n",
       "      <td>Budapest, Széll Kálmán tér M</td>\n",
       "      <td>3.5</td>\n",
       "    </tr>\n",
       "  </tbody>\n",
       "</table>\n",
       "</div>"
      ],
      "text/plain": [
       "                            Név                           Cím  Értékelés\n",
       "4                      Fermento     Budapest, Csalogány u. 26        4.8\n",
       "6  Porcellino Grasso Ristorante     Budapest, Ady Endre u. 19        4.6\n",
       "1                  Due Fratelli           Budapest, Erőd u. 9        4.4\n",
       "2                          IGEN     Budapest, Margit körút 60        4.4\n",
       "0                      Pizza Me     Budapest, Margit körút 91        4.3\n",
       "7                        Marxim     Budapest, Kis Rókus u. 23        4.3\n",
       "5                      IL Treno      Budapest, Lövőház u. 2-6        4.1\n",
       "3                   Pizza Forte  Budapest, Széll Kálmán tér M        3.5"
      ]
     },
     "execution_count": 18,
     "metadata": {},
     "output_type": "execute_result"
    }
   ],
   "source": [
    "nearby_endpoint = \"https://maps.googleapis.com/maps/api/place/nearbysearch/json\"\n",
    "params = {\n",
    "    \"key\": api_key,\n",
    "    \"location\": f\"{lat},{long}\",\n",
    "    \"radius\": radius,\n",
    "    \"keyword\": input\n",
    "}\n",
    "params_encoded = urlencode(params)\n",
    "places_url = f\"{nearby_endpoint}?{params_encoded}\"\n",
    "request = requests.get(places_url).json()\n",
    "\n",
    "df = pd.DataFrame(columns=[\"Név\", \"Cím\", \"Értékelés\"])\n",
    "\n",
    "for place in request[\"results\"]:\n",
    "    name = place[\"name\"]\n",
    "    ertekeles = place[\"rating\"]\n",
    "    cim = place[\"vicinity\"]\n",
    "    df1 = pd.DataFrame([[name, cim, ertekeles]], columns=[\"Név\", \"Cím\", \"Értékelés\"])\n",
    "    df = pd.concat([df,df1])\n",
    "    \n",
    "df = df.reset_index()\n",
    "df = df.drop(columns=\"index\")\n",
    "df.sort_values(\"Értékelés\", ascending=False)"
   ]
  }
 ],
 "metadata": {
  "kernelspec": {
   "display_name": "Python 3",
   "language": "python",
   "name": "python3"
  },
  "language_info": {
   "codemirror_mode": {
    "name": "ipython",
    "version": 3
   },
   "file_extension": ".py",
   "mimetype": "text/x-python",
   "name": "python",
   "nbconvert_exporter": "python",
   "pygments_lexer": "ipython3",
   "version": "3.9.0"
  },
  "orig_nbformat": 4,
  "vscode": {
   "interpreter": {
    "hash": "82ed002fa2d4956f5c6aec99bcefe0f73a9f79882f3c9e2319b14958a5896ac5"
   }
  }
 },
 "nbformat": 4,
 "nbformat_minor": 2
}
